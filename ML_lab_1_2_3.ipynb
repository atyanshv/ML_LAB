{
  "nbformat": 4,
  "nbformat_minor": 0,
  "metadata": {
    "colab": {
      "provenance": [],
      "authorship_tag": "ABX9TyNb0w5SFBomZi/FNO7mx0AZ",
      "include_colab_link": true
    },
    "kernelspec": {
      "name": "python3",
      "display_name": "Python 3"
    },
    "language_info": {
      "name": "python"
    }
  },
  "cells": [
    {
      "cell_type": "markdown",
      "metadata": {
        "id": "view-in-github",
        "colab_type": "text"
      },
      "source": [
        "<a href=\"https://colab.research.google.com/github/atyanshv/ML_LAB/blob/main/ML_lab_1_2_3.ipynb\" target=\"_parent\"><img src=\"https://colab.research.google.com/assets/colab-badge.svg\" alt=\"Open In Colab\"/></a>"
      ]
    },
    {
      "cell_type": "markdown",
      "source": [
        "First pyton program"
      ],
      "metadata": {
        "id": "x2IBdl12s1Qx"
      }
    },
    {
      "cell_type": "markdown",
      "source": [
        "Atyansh Vyas ML Lab Task"
      ],
      "metadata": {
        "id": "iR3D_NypaTgo"
      }
    },
    {
      "cell_type": "code",
      "source": [
        "thislist = [\"apple\", \"banana\", \"cherry\"]\n",
        "print(thislist)"
      ],
      "metadata": {
        "colab": {
          "base_uri": "https://localhost:8080/"
        },
        "id": "JwEaW3lfsug3",
        "outputId": "e5a0f4b4-a541-4e67-f717-9eb7831ab54b"
      },
      "execution_count": null,
      "outputs": [
        {
          "output_type": "stream",
          "name": "stdout",
          "text": [
            "['apple', 'banana', 'cherry']\n"
          ]
        }
      ]
    },
    {
      "cell_type": "markdown",
      "source": [
        "program for printing the square of natural number from 1 to 10"
      ],
      "metadata": {
        "id": "8kp_VFRPuwDx"
      }
    },
    {
      "cell_type": "code",
      "source": [
        "for i in range(1, 11):\n",
        "    print(i*i)"
      ],
      "metadata": {
        "colab": {
          "base_uri": "https://localhost:8080/"
        },
        "id": "krBF6f_CuYKx",
        "outputId": "d5cdc5ae-e241-4c7c-a84c-7ed3e3ef62fd"
      },
      "execution_count": null,
      "outputs": [
        {
          "output_type": "stream",
          "name": "stdout",
          "text": [
            "1\n",
            "4\n",
            "9\n",
            "16\n",
            "25\n",
            "36\n",
            "49\n",
            "64\n",
            "81\n",
            "100\n"
          ]
        }
      ]
    },
    {
      "cell_type": "markdown",
      "source": [
        "count the number of spaces in a string"
      ],
      "metadata": {
        "id": "9Nko3Ztdw5cy"
      }
    },
    {
      "cell_type": "code",
      "source": [
        "my_string = \"My name is gustavo but you can call me gus\"\n",
        "num_spaces = my_string.count(' ')\n",
        "print(\"Number of spaces in the string:\", num_spaces)\n"
      ],
      "metadata": {
        "colab": {
          "base_uri": "https://localhost:8080/"
        },
        "id": "F8yZsakVx-Sz",
        "outputId": "20b9695b-e520-4c98-aa88-e27d64e401df"
      },
      "execution_count": null,
      "outputs": [
        {
          "output_type": "stream",
          "name": "stdout",
          "text": [
            "Number of spaces in the string: 9\n"
          ]
        }
      ]
    },
    {
      "cell_type": "markdown",
      "source": [
        "counting the number of 6 in range of 1 to 1000"
      ],
      "metadata": {
        "id": "NOzzQClDyxTR"
      }
    },
    {
      "cell_type": "code",
      "source": [
        "count = 0\n",
        "for i in range(1, 1001):\n",
        "    count += str(i).count('6')\n",
        "print(count)\n"
      ],
      "metadata": {
        "colab": {
          "base_uri": "https://localhost:8080/"
        },
        "id": "tem6yVoOy5Fp",
        "outputId": "dac7d9ba-7f6b-46a9-c908-feacf8ab8adb"
      },
      "execution_count": null,
      "outputs": [
        {
          "output_type": "stream",
          "name": "stdout",
          "text": [
            "300\n"
          ]
        }
      ]
    },
    {
      "cell_type": "markdown",
      "source": [
        "find the number that are divisible by 2 and 5"
      ],
      "metadata": {
        "id": "MWTl9yCEzmXz"
      }
    },
    {
      "cell_type": "code",
      "source": [
        "start =start = 1\n",
        "end = 100\n",
        "\n",
        "for i in range(start, end+1):\n",
        "    if i % 2 == 0 and i % 5 == 0:\n",
        "        print(i)\n",
        " 1\n",
        "end = 1000\n",
        "\n",
        "for i in range(start, end+1):\n",
        "    if i % 2 == 0 and i % 5 == 0:\n",
        "        print(i)\n"
      ],
      "metadata": {
        "colab": {
          "base_uri": "https://localhost:8080/"
        },
        "id": "5e93m6tmzqhj",
        "outputId": "f56ba24d-e214-4b3f-b5d6-2c6d1e0b8959"
      },
      "execution_count": null,
      "outputs": [
        {
          "output_type": "stream",
          "name": "stdout",
          "text": [
            "10\n",
            "20\n",
            "30\n",
            "40\n",
            "50\n",
            "60\n",
            "70\n",
            "80\n",
            "90\n",
            "100\n",
            "110\n",
            "120\n",
            "130\n",
            "140\n",
            "150\n",
            "160\n",
            "170\n",
            "180\n",
            "190\n",
            "200\n",
            "210\n",
            "220\n",
            "230\n",
            "240\n",
            "250\n",
            "260\n",
            "270\n",
            "280\n",
            "290\n",
            "300\n",
            "310\n",
            "320\n",
            "330\n",
            "340\n",
            "350\n",
            "360\n",
            "370\n",
            "380\n",
            "390\n",
            "400\n",
            "410\n",
            "420\n",
            "430\n",
            "440\n",
            "450\n",
            "460\n",
            "470\n",
            "480\n",
            "490\n",
            "500\n",
            "510\n",
            "520\n",
            "530\n",
            "540\n",
            "550\n",
            "560\n",
            "570\n",
            "580\n",
            "590\n",
            "600\n",
            "610\n",
            "620\n",
            "630\n",
            "640\n",
            "650\n",
            "660\n",
            "670\n",
            "680\n",
            "690\n",
            "700\n",
            "710\n",
            "720\n",
            "730\n",
            "740\n",
            "750\n",
            "760\n",
            "770\n",
            "780\n",
            "790\n",
            "800\n",
            "810\n",
            "820\n",
            "830\n",
            "840\n",
            "850\n",
            "860\n",
            "870\n",
            "880\n",
            "890\n",
            "900\n",
            "910\n",
            "920\n",
            "930\n",
            "940\n",
            "950\n",
            "960\n",
            "970\n",
            "980\n",
            "990\n",
            "1000\n"
          ]
        }
      ]
    },
    {
      "cell_type": "markdown",
      "source": [
        "print the table of 5"
      ],
      "metadata": {
        "id": "Y68NyX8mz5Wr"
      }
    },
    {
      "cell_type": "code",
      "source": [
        "for i in range(1, 50):\n",
        "    print(\"5 x\", i, \"=\", 5*i)\n"
      ],
      "metadata": {
        "colab": {
          "base_uri": "https://localhost:8080/"
        },
        "id": "TUvJUcjr0JBa",
        "outputId": "26693d17-dfcd-4672-badd-b1dd4ab362b5"
      },
      "execution_count": null,
      "outputs": [
        {
          "output_type": "stream",
          "name": "stdout",
          "text": [
            "5 x 1 = 5\n",
            "5 x 2 = 10\n",
            "5 x 3 = 15\n",
            "5 x 4 = 20\n",
            "5 x 5 = 25\n",
            "5 x 6 = 30\n",
            "5 x 7 = 35\n",
            "5 x 8 = 40\n",
            "5 x 9 = 45\n",
            "5 x 10 = 50\n",
            "5 x 11 = 55\n",
            "5 x 12 = 60\n",
            "5 x 13 = 65\n",
            "5 x 14 = 70\n",
            "5 x 15 = 75\n",
            "5 x 16 = 80\n",
            "5 x 17 = 85\n",
            "5 x 18 = 90\n",
            "5 x 19 = 95\n",
            "5 x 20 = 100\n",
            "5 x 21 = 105\n",
            "5 x 22 = 110\n",
            "5 x 23 = 115\n",
            "5 x 24 = 120\n",
            "5 x 25 = 125\n",
            "5 x 26 = 130\n",
            "5 x 27 = 135\n",
            "5 x 28 = 140\n",
            "5 x 29 = 145\n",
            "5 x 30 = 150\n",
            "5 x 31 = 155\n",
            "5 x 32 = 160\n",
            "5 x 33 = 165\n",
            "5 x 34 = 170\n",
            "5 x 35 = 175\n",
            "5 x 36 = 180\n",
            "5 x 37 = 185\n",
            "5 x 38 = 190\n",
            "5 x 39 = 195\n",
            "5 x 40 = 200\n",
            "5 x 41 = 205\n",
            "5 x 42 = 210\n",
            "5 x 43 = 215\n",
            "5 x 44 = 220\n",
            "5 x 45 = 225\n",
            "5 x 46 = 230\n",
            "5 x 47 = 235\n",
            "5 x 48 = 240\n",
            "5 x 49 = 245\n"
          ]
        }
      ]
    },
    {
      "cell_type": "markdown",
      "source": [
        "Importing the library"
      ],
      "metadata": {
        "id": "MROOlKQHaVP-"
      }
    },
    {
      "cell_type": "markdown",
      "source": [
        "data processing tool"
      ],
      "metadata": {
        "id": "ir1CmGsxboK_"
      }
    },
    {
      "cell_type": "code",
      "source": [
        "import numpy as np\n",
        "import matplotlib.pyplot as plt\n",
        "import pandas as pd\n",
        "dataset = pd.read_csv('Data.csv')\n",
        "x=dataset.iloc[:,:-1].values\n",
        "y=dataset.iloc[:,-2].values\n",
        "\n",
        "print(x)\n",
        "print(y)"
      ],
      "metadata": {
        "colab": {
          "base_uri": "https://localhost:8080/"
        },
        "id": "zSQaG-clbnDF",
        "outputId": "5a35c3ab-6652-4ba8-ca49-4f1d35590cbe"
      },
      "execution_count": null,
      "outputs": [
        {
          "output_type": "stream",
          "name": "stdout",
          "text": [
            "[['France' 44.0 72000.0]\n",
            " ['Spain' 27.0 48000.0]\n",
            " ['Germany' 30.0 54000.0]\n",
            " ['Spain' 38.0 61000.0]\n",
            " ['Germany' 40.0 nan]\n",
            " ['France' 35.0 58000.0]\n",
            " ['Spain' nan 52000.0]\n",
            " ['France' 48.0 79000.0]\n",
            " ['Germany' 50.0 83000.0]\n",
            " ['France' 37.0 67000.0]]\n",
            "[72000. 48000. 54000. 61000.    nan 58000. 52000. 79000. 83000. 67000.]\n"
          ]
        }
      ]
    },
    {
      "cell_type": "markdown",
      "source": [
        "Taking care of missing data"
      ],
      "metadata": {
        "id": "mRkOm5k-d8K_"
      }
    },
    {
      "cell_type": "code",
      "source": [
        "from sklearn.impute import  SimpleImputer\n",
        "imputer = SimpleImputer(missing_values = np.nan , strategy = 'mean')\n",
        "imputer.fit(x[:, 2:5])\n",
        "x[: , 2:5] = imputer.transform(x[:, 2:5])\n",
        "print(x)\n"
      ],
      "metadata": {
        "colab": {
          "base_uri": "https://localhost:8080/"
        },
        "id": "f6iFFvVJd_N2",
        "outputId": "e9073cb7-9980-44c4-aac8-6002d363780b"
      },
      "execution_count": null,
      "outputs": [
        {
          "output_type": "stream",
          "name": "stdout",
          "text": [
            "[['France' 44.0 72000.0]\n",
            " ['Spain' 27.0 48000.0]\n",
            " ['Germany' 30.0 54000.0]\n",
            " ['Spain' 38.0 61000.0]\n",
            " ['Germany' 40.0 63777.77777777778]\n",
            " ['France' 35.0 58000.0]\n",
            " ['Spain' nan 52000.0]\n",
            " ['France' 48.0 79000.0]\n",
            " ['Germany' 50.0 83000.0]\n",
            " ['France' 37.0 67000.0]]\n"
          ]
        }
      ]
    },
    {
      "cell_type": "code",
      "source": [
        "print(y)\n"
      ],
      "metadata": {
        "colab": {
          "base_uri": "https://localhost:8080/"
        },
        "id": "gXuXP4aI25tK",
        "outputId": "100dd23f-bf4c-44c6-fac9-705a48b61b30"
      },
      "execution_count": null,
      "outputs": [
        {
          "output_type": "stream",
          "name": "stdout",
          "text": [
            "[72000. 48000. 54000. 61000.    nan 58000. 52000. 79000. 83000. 67000.]\n"
          ]
        }
      ]
    },
    {
      "cell_type": "markdown",
      "source": [
        "Encoding Categorical data"
      ],
      "metadata": {
        "id": "PRNxScdM3HLw"
      }
    },
    {
      "cell_type": "code",
      "source": [
        "from sklearn.compose import ColumnTransformer\n",
        "from sklearn.preprocessing import OneHotEncoder\n",
        "ct = ColumnTransformer(transformers = [('encoder',OneHotEncoder() ,[0])] , remainder ='passthrough')\n",
        "x = np.array(ct.fit_transform(x))\n",
        "print(x)"
      ],
      "metadata": {
        "colab": {
          "base_uri": "https://localhost:8080/"
        },
        "id": "W1UVvODb3G6E",
        "outputId": "588f2297-fd9d-47ab-8d8b-475b054e9d3e"
      },
      "execution_count": null,
      "outputs": [
        {
          "output_type": "stream",
          "name": "stdout",
          "text": [
            "[[1.0 0.0 0.0 44.0 72000.0]\n",
            " [0.0 0.0 1.0 27.0 48000.0]\n",
            " [0.0 1.0 0.0 30.0 54000.0]\n",
            " [0.0 0.0 1.0 38.0 61000.0]\n",
            " [0.0 1.0 0.0 40.0 63777.77777777778]\n",
            " [1.0 0.0 0.0 35.0 58000.0]\n",
            " [0.0 0.0 1.0 nan 52000.0]\n",
            " [1.0 0.0 0.0 48.0 79000.0]\n",
            " [0.0 1.0 0.0 50.0 83000.0]\n",
            " [1.0 0.0 0.0 37.0 67000.0]]\n"
          ]
        }
      ]
    },
    {
      "cell_type": "markdown",
      "source": [
        "Encoding Dependent Variable"
      ],
      "metadata": {
        "id": "egfpOEDI8LgW"
      }
    },
    {
      "cell_type": "code",
      "source": [
        "from sklearn.preprocessing import LabelEncoder\n",
        "le = LabelEncoder()\n",
        "y = le.fit_transform(y)\n",
        "print(y)"
      ],
      "metadata": {
        "colab": {
          "base_uri": "https://localhost:8080/"
        },
        "id": "EW9Tt8mR3vWv",
        "outputId": "a747b0b4-29d1-4454-afef-30888c41e26d"
      },
      "execution_count": null,
      "outputs": [
        {
          "output_type": "stream",
          "name": "stdout",
          "text": [
            "[6 0 2 4 9 3 1 7 8 5]\n"
          ]
        }
      ]
    },
    {
      "cell_type": "markdown",
      "source": [
        "Splitting Dataset"
      ],
      "metadata": {
        "id": "ubJx48LL8otV"
      }
    },
    {
      "cell_type": "code",
      "source": [
        "from sklearn.model_selection import train_test_split\n",
        "x_train, x_test, y_train, y_test = train_test_split(x,y,test_size=0.2,random_state=1)"
      ],
      "metadata": {
        "id": "TmYtvpmt30mB"
      },
      "execution_count": null,
      "outputs": []
    },
    {
      "cell_type": "code",
      "source": [
        "print(x_train)"
      ],
      "metadata": {
        "colab": {
          "base_uri": "https://localhost:8080/"
        },
        "id": "TR1eX0lD346O",
        "outputId": "26ecad4b-0a04-4426-d539-62878c09ca9b"
      },
      "execution_count": null,
      "outputs": [
        {
          "output_type": "stream",
          "name": "stdout",
          "text": [
            "[[1.0 0.0 0.0 1.0 nan 52000.0]\n",
            " [1.0 0.0 1.0 0.0 40.0 63777.77777777778]\n",
            " [0.0 1.0 0.0 0.0 44.0 72000.0]\n",
            " [1.0 0.0 0.0 1.0 38.0 61000.0]\n",
            " [1.0 0.0 0.0 1.0 27.0 48000.0]\n",
            " [0.0 1.0 0.0 0.0 48.0 79000.0]\n",
            " [1.0 0.0 1.0 0.0 50.0 83000.0]\n",
            " [0.0 1.0 0.0 0.0 35.0 58000.0]]\n"
          ]
        }
      ]
    },
    {
      "cell_type": "code",
      "source": [
        "print(x_test)"
      ],
      "metadata": {
        "colab": {
          "base_uri": "https://localhost:8080/"
        },
        "id": "vlhONMmA39hm",
        "outputId": "8e6ee722-94ff-48d0-f919-033c89ba9b17"
      },
      "execution_count": null,
      "outputs": [
        {
          "output_type": "stream",
          "name": "stdout",
          "text": [
            "[[1.0 0.0 1.0 0.0 30.0 54000.0]\n",
            " [0.0 1.0 0.0 0.0 37.0 67000.0]]\n"
          ]
        }
      ]
    },
    {
      "cell_type": "code",
      "source": [
        "print(y_train)"
      ],
      "metadata": {
        "colab": {
          "base_uri": "https://localhost:8080/"
        },
        "id": "dDGQ1cnH4CaF",
        "outputId": "cc26307c-9408-4c09-dfd1-9eab0d14e0d4"
      },
      "execution_count": null,
      "outputs": [
        {
          "output_type": "stream",
          "name": "stdout",
          "text": [
            "[1 9 6 4 0 7 8 3]\n"
          ]
        }
      ]
    },
    {
      "cell_type": "code",
      "source": [
        "print(y_test)"
      ],
      "metadata": {
        "colab": {
          "base_uri": "https://localhost:8080/"
        },
        "id": "S1G6ki044Eg7",
        "outputId": "f7f460a1-04e4-412f-a164-8797b7d3132c"
      },
      "execution_count": null,
      "outputs": [
        {
          "output_type": "stream",
          "name": "stdout",
          "text": [
            "[2 5]\n"
          ]
        }
      ]
    },
    {
      "cell_type": "markdown",
      "source": [
        "feature scaling"
      ],
      "metadata": {
        "id": "PowxR-f38h42"
      }
    },
    {
      "cell_type": "code",
      "source": [
        "from sklearn.preprocessing import StandardScaler\n",
        "sc = StandardScaler()\n",
        "x_train = sc.fit_transform(x_train)\n",
        "x_test = sc.transform(x_test)\n",
        "print (x_train)"
      ],
      "metadata": {
        "colab": {
          "base_uri": "https://localhost:8080/"
        },
        "id": "KmviXx-L4HrP",
        "outputId": "b53a2f35-9d5b-464a-eb45-290ec6f0a3dd"
      },
      "execution_count": null,
      "outputs": [
        {
          "output_type": "stream",
          "name": "stdout",
          "text": [
            "[[ 0.77459667 -0.77459667 -0.57735027  1.29099445         nan -1.07812594]\n",
            " [ 0.77459667 -0.77459667  1.73205081 -0.77459667 -0.03891021 -0.07013168]\n",
            " [-1.29099445  1.29099445 -0.57735027 -0.77459667  0.50583275  0.63356243]\n",
            " [ 0.77459667 -0.77459667 -0.57735027  1.29099445 -0.31128169 -0.30786617]\n",
            " [ 0.77459667 -0.77459667 -0.57735027  1.29099445 -1.80932482 -1.42046362]\n",
            " [-1.29099445  1.29099445 -0.57735027 -0.77459667  1.0505757   1.23265336]\n",
            " [ 0.77459667 -0.77459667  1.73205081 -0.77459667  1.32294718  1.57499104]\n",
            " [-1.29099445  1.29099445 -0.57735027 -0.77459667 -0.71983891 -0.56461943]]\n"
          ]
        }
      ]
    },
    {
      "cell_type": "code",
      "source": [
        "print (x_test)"
      ],
      "metadata": {
        "colab": {
          "base_uri": "https://localhost:8080/"
        },
        "id": "brpUAeqa4Q32",
        "outputId": "243f19e2-eb6e-41dd-cdf9-625ed281e707"
      },
      "execution_count": null,
      "outputs": [
        {
          "output_type": "stream",
          "name": "stdout",
          "text": [
            "[[ 0.77459667 -0.77459667  1.73205081 -0.77459667 -1.40076761 -0.9069571 ]\n",
            " [-1.29099445  1.29099445 -0.57735027 -0.77459667 -0.44746743  0.20564034]]\n"
          ]
        }
      ]
    }
  ]
}