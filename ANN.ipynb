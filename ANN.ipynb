{
  "nbformat": 4,
  "nbformat_minor": 0,
  "metadata": {
    "colab": {
      "provenance": [],
      "include_colab_link": true
    },
    "kernelspec": {
      "name": "python3",
      "display_name": "Python 3"
    },
    "language_info": {
      "name": "python"
    }
  },
  "cells": [
    {
      "cell_type": "markdown",
      "metadata": {
        "id": "view-in-github",
        "colab_type": "text"
      },
      "source": [
        "<a href=\"https://colab.research.google.com/github/atyanshv/python/blob/main/ANN.ipynb\" target=\"_parent\"><img src=\"https://colab.research.google.com/assets/colab-badge.svg\" alt=\"Open In Colab\"/></a>"
      ]
    },
    {
      "cell_type": "markdown",
      "source": [
        "**Aim :-** Build an Artificial Neural Network (ANN) by implementing the Backpropagation algorithm and test the same using MNIST Handwritten Digit Multiclass classification  data sets with use of use of batch normalization, early stopping and drop out."
      ],
      "metadata": {
        "id": "y0EIDUVjk7bq"
      }
    },
    {
      "cell_type": "markdown",
      "source": [
        "Loading the MNIST dataset in Keras"
      ],
      "metadata": {
        "id": "jiv9dFxLjIR-"
      }
    },
    {
      "cell_type": "code",
      "execution_count": null,
      "metadata": {
        "id": "U4-F8wrmZhUA"
      },
      "outputs": [],
      "source": [
        "from keras.datasets import mnist\n",
        "(train_images, train_labels), (test_images, test_labels) = mnist.load_data()\n"
      ]
    },
    {
      "cell_type": "code",
      "source": [
        "train_images.shape\n",
        "len(train_labels)\n",
        "train_labels\n",
        "test_images.shape\n",
        "len(test_labels)\n",
        "test_labels\n"
      ],
      "metadata": {
        "colab": {
          "base_uri": "https://localhost:8080/"
        },
        "id": "TejEA7r_jRLr",
        "outputId": "5ec95d95-e3b3-4ea6-b01a-1fd07660d996"
      },
      "execution_count": null,
      "outputs": [
        {
          "output_type": "execute_result",
          "data": {
            "text/plain": [
              "array([7, 2, 1, ..., 4, 5, 6], dtype=uint8)"
            ]
          },
          "metadata": {},
          "execution_count": 11
        }
      ]
    },
    {
      "cell_type": "markdown",
      "source": [
        "The network architecture\n"
      ],
      "metadata": {
        "id": "8kW7M9gjjh_C"
      }
    },
    {
      "cell_type": "code",
      "source": [
        "from keras import models\n",
        "from keras import layers\n",
        "network = models.Sequential()\n",
        "# Dense(32) is a fully-connected layer with 32 hidden units.\n",
        "# in the first layer, you must specify the expected input data shape :\n",
        "# here, 28 X 28=784 -dimensional vectors.\n",
        "network.add(layers.Dense(32, activation='sigmoid', input_shape=(28 * 28, )))\n",
        "network.add(layers.Dense(8, activation='sigmoid'))\n",
        "network.add(layers.Dense(10, activation='softmax'))\n",
        "network.summary()\n",
        "from google.colab import drive\n",
        "drive.mount('/content/drive')\n"
      ],
      "metadata": {
        "colab": {
          "base_uri": "https://localhost:8080/"
        },
        "id": "nHTkb3bfjS8L",
        "outputId": "3dbf4ee3-4b27-45ea-938c-d991f1c7df17"
      },
      "execution_count": null,
      "outputs": [
        {
          "output_type": "stream",
          "name": "stdout",
          "text": [
            "Model: \"sequential_1\"\n",
            "_________________________________________________________________\n",
            " Layer (type)                Output Shape              Param #   \n",
            "=================================================================\n",
            " dense_3 (Dense)             (None, 32)                25120     \n",
            "                                                                 \n",
            " dense_4 (Dense)             (None, 8)                 264       \n",
            "                                                                 \n",
            " dense_5 (Dense)             (None, 10)                90        \n",
            "                                                                 \n",
            "=================================================================\n",
            "Total params: 25,474\n",
            "Trainable params: 25,474\n",
            "Non-trainable params: 0\n",
            "_________________________________________________________________\n",
            "Drive already mounted at /content/drive; to attempt to forcibly remount, call drive.mount(\"/content/drive\", force_remount=True).\n"
          ]
        }
      ]
    },
    {
      "cell_type": "markdown",
      "source": [
        "The compilation step\n"
      ],
      "metadata": {
        "id": "HQcMO0kMkMlC"
      }
    },
    {
      "cell_type": "code",
      "source": [
        "network.compile(optimizer='sgd',\n",
        "                loss='categorical_crossentropy',\n",
        "                metrics=['accuracy'])\n"
      ],
      "metadata": {
        "id": "8GtKoYVmkOmq"
      },
      "execution_count": null,
      "outputs": []
    },
    {
      "cell_type": "markdown",
      "source": [
        "Preparing the image data\n"
      ],
      "metadata": {
        "id": "hhHEEC36kS-S"
      }
    },
    {
      "cell_type": "code",
      "source": [
        "train_images = train_images.reshape((60000, 28 * 28))\n",
        "train_images = train_images.astype('float32') / 255.\n",
        "test_images = test_images.reshape((10000, 28 * 28))\n",
        "test_images = test_images.astype('float32') / 255.\n"
      ],
      "metadata": {
        "id": "ZRfjchIFkVFa"
      },
      "execution_count": null,
      "outputs": []
    },
    {
      "cell_type": "markdown",
      "source": [
        "Preparing the labels\n"
      ],
      "metadata": {
        "id": "V_5qMp2hkZVk"
      }
    },
    {
      "cell_type": "code",
      "source": [
        "from keras.utils import to_categorical\n",
        "train_labels = to_categorical(train_labels)\n",
        "train_labels\n",
        "test_labels = to_categorical(test_labels)\n",
        "test_labels\n"
      ],
      "metadata": {
        "colab": {
          "base_uri": "https://localhost:8080/"
        },
        "id": "S5_sGmzAkbDD",
        "outputId": "4c51e9ae-9512-47c6-f89f-660b68aa1eac"
      },
      "execution_count": null,
      "outputs": [
        {
          "output_type": "execute_result",
          "data": {
            "text/plain": [
              "array([[0., 0., 0., ..., 1., 0., 0.],\n",
              "       [0., 0., 1., ..., 0., 0., 0.],\n",
              "       [0., 1., 0., ..., 0., 0., 0.],\n",
              "       ...,\n",
              "       [0., 0., 0., ..., 0., 0., 0.],\n",
              "       [0., 0., 0., ..., 0., 0., 0.],\n",
              "       [0., 0., 0., ..., 0., 0., 0.]], dtype=float32)"
            ]
          },
          "metadata": {},
          "execution_count": 15
        }
      ]
    },
    {
      "cell_type": "markdown",
      "source": [
        "Training and Testing\n"
      ],
      "metadata": {
        "id": "ryTON8J8khQs"
      }
    },
    {
      "cell_type": "code",
      "source": [
        "network.fit(train_images, train_labels, epochs=160, batch_size=512)\n"
      ],
      "metadata": {
        "colab": {
          "base_uri": "https://localhost:8080/"
        },
        "id": "_BN4zwjkkjJq",
        "outputId": "a4e6ef73-0f09-4553-87e4-d9be4a515372"
      },
      "execution_count": null,
      "outputs": [
        {
          "output_type": "stream",
          "name": "stdout",
          "text": [
            "Epoch 1/160\n",
            "118/118 [==============================] - 1s 4ms/step - loss: 2.3542 - accuracy: 0.0986\n",
            "Epoch 2/160\n",
            "118/118 [==============================] - 1s 4ms/step - loss: 2.3184 - accuracy: 0.1000\n",
            "Epoch 3/160\n",
            "118/118 [==============================] - 0s 4ms/step - loss: 2.3005 - accuracy: 0.1254\n",
            "Epoch 4/160\n",
            "118/118 [==============================] - 1s 4ms/step - loss: 2.2890 - accuracy: 0.2033\n",
            "Epoch 5/160\n",
            "118/118 [==============================] - 0s 4ms/step - loss: 2.2802 - accuracy: 0.2148\n",
            "Epoch 6/160\n",
            "118/118 [==============================] - 1s 4ms/step - loss: 2.2727 - accuracy: 0.2384\n",
            "Epoch 7/160\n",
            "118/118 [==============================] - 0s 4ms/step - loss: 2.2655 - accuracy: 0.2413\n",
            "Epoch 8/160\n",
            "118/118 [==============================] - 1s 4ms/step - loss: 2.2584 - accuracy: 0.2433\n",
            "Epoch 9/160\n",
            "118/118 [==============================] - 0s 4ms/step - loss: 2.2511 - accuracy: 0.2530\n",
            "Epoch 10/160\n",
            "118/118 [==============================] - 0s 4ms/step - loss: 2.2434 - accuracy: 0.2586\n",
            "Epoch 11/160\n",
            "118/118 [==============================] - 1s 9ms/step - loss: 2.2353 - accuracy: 0.2621\n",
            "Epoch 12/160\n",
            "118/118 [==============================] - 1s 10ms/step - loss: 2.2266 - accuracy: 0.2691\n",
            "Epoch 13/160\n",
            "118/118 [==============================] - 1s 10ms/step - loss: 2.2174 - accuracy: 0.2760\n",
            "Epoch 14/160\n",
            "118/118 [==============================] - 1s 12ms/step - loss: 2.2074 - accuracy: 0.2828\n",
            "Epoch 15/160\n",
            "118/118 [==============================] - 1s 9ms/step - loss: 2.1968 - accuracy: 0.2872\n",
            "Epoch 16/160\n",
            "118/118 [==============================] - 1s 7ms/step - loss: 2.1855 - accuracy: 0.2941\n",
            "Epoch 17/160\n",
            "118/118 [==============================] - 1s 8ms/step - loss: 2.1735 - accuracy: 0.2989\n",
            "Epoch 18/160\n",
            "118/118 [==============================] - 1s 9ms/step - loss: 2.1607 - accuracy: 0.3054\n",
            "Epoch 19/160\n",
            "118/118 [==============================] - 1s 6ms/step - loss: 2.1473 - accuracy: 0.3119\n",
            "Epoch 20/160\n",
            "118/118 [==============================] - 1s 7ms/step - loss: 2.1332 - accuracy: 0.3172\n",
            "Epoch 21/160\n",
            "118/118 [==============================] - 1s 7ms/step - loss: 2.1184 - accuracy: 0.3228\n",
            "Epoch 22/160\n",
            "118/118 [==============================] - 1s 7ms/step - loss: 2.1031 - accuracy: 0.3300\n",
            "Epoch 23/160\n",
            "118/118 [==============================] - 1s 6ms/step - loss: 2.0874 - accuracy: 0.3350\n",
            "Epoch 24/160\n",
            "118/118 [==============================] - 1s 6ms/step - loss: 2.0712 - accuracy: 0.3428\n",
            "Epoch 25/160\n",
            "118/118 [==============================] - 1s 6ms/step - loss: 2.0547 - accuracy: 0.3504\n",
            "Epoch 26/160\n",
            "118/118 [==============================] - 1s 6ms/step - loss: 2.0379 - accuracy: 0.3560\n",
            "Epoch 27/160\n",
            "118/118 [==============================] - 1s 11ms/step - loss: 2.0209 - accuracy: 0.3636\n",
            "Epoch 28/160\n",
            "118/118 [==============================] - 1s 9ms/step - loss: 2.0038 - accuracy: 0.3715\n",
            "Epoch 29/160\n",
            "118/118 [==============================] - 1s 10ms/step - loss: 1.9867 - accuracy: 0.3778\n",
            "Epoch 30/160\n",
            "118/118 [==============================] - 1s 10ms/step - loss: 1.9695 - accuracy: 0.3871\n",
            "Epoch 31/160\n",
            "118/118 [==============================] - 1s 8ms/step - loss: 1.9523 - accuracy: 0.3936\n",
            "Epoch 32/160\n",
            "118/118 [==============================] - 1s 8ms/step - loss: 1.9352 - accuracy: 0.4019\n",
            "Epoch 33/160\n",
            "118/118 [==============================] - 1s 6ms/step - loss: 1.9181 - accuracy: 0.4082\n",
            "Epoch 34/160\n",
            "118/118 [==============================] - 1s 6ms/step - loss: 1.9011 - accuracy: 0.4155\n",
            "Epoch 35/160\n",
            "118/118 [==============================] - 1s 6ms/step - loss: 1.8841 - accuracy: 0.4212\n",
            "Epoch 36/160\n",
            "118/118 [==============================] - 1s 6ms/step - loss: 1.8672 - accuracy: 0.4289\n",
            "Epoch 37/160\n",
            "118/118 [==============================] - 1s 6ms/step - loss: 1.8503 - accuracy: 0.4340\n",
            "Epoch 38/160\n",
            "118/118 [==============================] - 1s 6ms/step - loss: 1.8334 - accuracy: 0.4408\n",
            "Epoch 39/160\n",
            "118/118 [==============================] - 1s 7ms/step - loss: 1.8165 - accuracy: 0.4469\n",
            "Epoch 40/160\n",
            "118/118 [==============================] - 1s 7ms/step - loss: 1.7997 - accuracy: 0.4513\n",
            "Epoch 41/160\n",
            "118/118 [==============================] - 1s 6ms/step - loss: 1.7829 - accuracy: 0.4565\n",
            "Epoch 42/160\n",
            "118/118 [==============================] - 1s 7ms/step - loss: 1.7660 - accuracy: 0.4620\n",
            "Epoch 43/160\n",
            "118/118 [==============================] - 1s 9ms/step - loss: 1.7492 - accuracy: 0.4675\n",
            "Epoch 44/160\n",
            "118/118 [==============================] - 1s 10ms/step - loss: 1.7323 - accuracy: 0.4719\n",
            "Epoch 45/160\n",
            "118/118 [==============================] - 2s 13ms/step - loss: 1.7154 - accuracy: 0.4776\n",
            "Epoch 46/160\n",
            "118/118 [==============================] - 1s 11ms/step - loss: 1.6986 - accuracy: 0.4821\n",
            "Epoch 47/160\n",
            "118/118 [==============================] - 1s 11ms/step - loss: 1.6817 - accuracy: 0.4883\n",
            "Epoch 48/160\n",
            "118/118 [==============================] - 1s 7ms/step - loss: 1.6648 - accuracy: 0.4937\n",
            "Epoch 49/160\n",
            "118/118 [==============================] - 1s 4ms/step - loss: 1.6479 - accuracy: 0.4985\n",
            "Epoch 50/160\n",
            "118/118 [==============================] - 0s 4ms/step - loss: 1.6311 - accuracy: 0.5054\n",
            "Epoch 51/160\n",
            "118/118 [==============================] - 0s 4ms/step - loss: 1.6143 - accuracy: 0.5107\n",
            "Epoch 52/160\n",
            "118/118 [==============================] - 0s 4ms/step - loss: 1.5976 - accuracy: 0.5175\n",
            "Epoch 53/160\n",
            "118/118 [==============================] - 0s 4ms/step - loss: 1.5810 - accuracy: 0.5243\n",
            "Epoch 54/160\n",
            "118/118 [==============================] - 0s 4ms/step - loss: 1.5644 - accuracy: 0.5307\n",
            "Epoch 55/160\n",
            "118/118 [==============================] - 0s 4ms/step - loss: 1.5480 - accuracy: 0.5361\n",
            "Epoch 56/160\n",
            "118/118 [==============================] - 0s 4ms/step - loss: 1.5317 - accuracy: 0.5430\n",
            "Epoch 57/160\n",
            "118/118 [==============================] - 0s 4ms/step - loss: 1.5155 - accuracy: 0.5479\n",
            "Epoch 58/160\n",
            "118/118 [==============================] - 0s 4ms/step - loss: 1.4995 - accuracy: 0.5552\n",
            "Epoch 59/160\n",
            "118/118 [==============================] - 0s 4ms/step - loss: 1.4837 - accuracy: 0.5621\n",
            "Epoch 60/160\n",
            "118/118 [==============================] - 0s 4ms/step - loss: 1.4680 - accuracy: 0.5688\n",
            "Epoch 61/160\n",
            "118/118 [==============================] - 0s 4ms/step - loss: 1.4526 - accuracy: 0.5749\n",
            "Epoch 62/160\n",
            "118/118 [==============================] - 0s 4ms/step - loss: 1.4373 - accuracy: 0.5800\n",
            "Epoch 63/160\n",
            "118/118 [==============================] - 0s 4ms/step - loss: 1.4223 - accuracy: 0.5868\n",
            "Epoch 64/160\n",
            "118/118 [==============================] - 0s 4ms/step - loss: 1.4075 - accuracy: 0.5932\n",
            "Epoch 65/160\n",
            "118/118 [==============================] - 0s 4ms/step - loss: 1.3928 - accuracy: 0.5993\n",
            "Epoch 66/160\n",
            "118/118 [==============================] - 0s 4ms/step - loss: 1.3785 - accuracy: 0.6044\n",
            "Epoch 67/160\n",
            "118/118 [==============================] - 0s 4ms/step - loss: 1.3643 - accuracy: 0.6114\n",
            "Epoch 68/160\n",
            "118/118 [==============================] - 1s 5ms/step - loss: 1.3503 - accuracy: 0.6177\n",
            "Epoch 69/160\n",
            "118/118 [==============================] - 1s 6ms/step - loss: 1.3366 - accuracy: 0.6237\n",
            "Epoch 70/160\n",
            "118/118 [==============================] - 1s 6ms/step - loss: 1.3230 - accuracy: 0.6302\n",
            "Epoch 71/160\n",
            "118/118 [==============================] - 1s 6ms/step - loss: 1.3097 - accuracy: 0.6355\n",
            "Epoch 72/160\n",
            "118/118 [==============================] - 1s 6ms/step - loss: 1.2966 - accuracy: 0.6426\n",
            "Epoch 73/160\n",
            "118/118 [==============================] - 1s 6ms/step - loss: 1.2837 - accuracy: 0.6481\n",
            "Epoch 74/160\n",
            "118/118 [==============================] - 1s 6ms/step - loss: 1.2710 - accuracy: 0.6527\n",
            "Epoch 75/160\n",
            "118/118 [==============================] - 0s 4ms/step - loss: 1.2584 - accuracy: 0.6588\n",
            "Epoch 76/160\n",
            "118/118 [==============================] - 1s 7ms/step - loss: 1.2460 - accuracy: 0.6658\n",
            "Epoch 77/160\n",
            "118/118 [==============================] - 1s 6ms/step - loss: 1.2338 - accuracy: 0.6708\n",
            "Epoch 78/160\n",
            "118/118 [==============================] - 1s 6ms/step - loss: 1.2218 - accuracy: 0.6773\n",
            "Epoch 79/160\n",
            "118/118 [==============================] - 1s 7ms/step - loss: 1.2100 - accuracy: 0.6810\n",
            "Epoch 80/160\n",
            "118/118 [==============================] - 1s 7ms/step - loss: 1.1982 - accuracy: 0.6867\n",
            "Epoch 81/160\n",
            "118/118 [==============================] - 1s 5ms/step - loss: 1.1867 - accuracy: 0.6908\n",
            "Epoch 82/160\n",
            "118/118 [==============================] - 1s 6ms/step - loss: 1.1753 - accuracy: 0.6963\n",
            "Epoch 83/160\n",
            "118/118 [==============================] - 1s 6ms/step - loss: 1.1640 - accuracy: 0.7019\n",
            "Epoch 84/160\n",
            "118/118 [==============================] - 1s 6ms/step - loss: 1.1529 - accuracy: 0.7061\n",
            "Epoch 85/160\n",
            "118/118 [==============================] - 1s 5ms/step - loss: 1.1419 - accuracy: 0.7105\n",
            "Epoch 86/160\n",
            "118/118 [==============================] - 1s 7ms/step - loss: 1.1310 - accuracy: 0.7147\n",
            "Epoch 87/160\n",
            "118/118 [==============================] - 1s 6ms/step - loss: 1.1202 - accuracy: 0.7189\n",
            "Epoch 88/160\n",
            "118/118 [==============================] - 1s 7ms/step - loss: 1.1096 - accuracy: 0.7233\n",
            "Epoch 89/160\n",
            "118/118 [==============================] - 1s 10ms/step - loss: 1.0991 - accuracy: 0.7278\n",
            "Epoch 90/160\n",
            "118/118 [==============================] - 1s 9ms/step - loss: 1.0888 - accuracy: 0.7315\n",
            "Epoch 91/160\n",
            "118/118 [==============================] - 1s 7ms/step - loss: 1.0785 - accuracy: 0.7354\n",
            "Epoch 92/160\n",
            "118/118 [==============================] - 1s 6ms/step - loss: 1.0684 - accuracy: 0.7383\n",
            "Epoch 93/160\n",
            "118/118 [==============================] - 1s 6ms/step - loss: 1.0584 - accuracy: 0.7418\n",
            "Epoch 94/160\n",
            "118/118 [==============================] - 0s 4ms/step - loss: 1.0485 - accuracy: 0.7446\n",
            "Epoch 95/160\n",
            "118/118 [==============================] - 0s 4ms/step - loss: 1.0388 - accuracy: 0.7483\n",
            "Epoch 96/160\n",
            "118/118 [==============================] - 0s 4ms/step - loss: 1.0292 - accuracy: 0.7508\n",
            "Epoch 97/160\n",
            "118/118 [==============================] - 0s 4ms/step - loss: 1.0197 - accuracy: 0.7540\n",
            "Epoch 98/160\n",
            "118/118 [==============================] - 0s 4ms/step - loss: 1.0104 - accuracy: 0.7578\n",
            "Epoch 99/160\n",
            "118/118 [==============================] - 1s 5ms/step - loss: 1.0011 - accuracy: 0.7599\n",
            "Epoch 100/160\n",
            "118/118 [==============================] - 1s 6ms/step - loss: 0.9921 - accuracy: 0.7630\n",
            "Epoch 101/160\n",
            "118/118 [==============================] - 1s 6ms/step - loss: 0.9831 - accuracy: 0.7659\n",
            "Epoch 102/160\n",
            "118/118 [==============================] - 1s 6ms/step - loss: 0.9743 - accuracy: 0.7679\n",
            "Epoch 103/160\n",
            "118/118 [==============================] - 1s 5ms/step - loss: 0.9657 - accuracy: 0.7704\n",
            "Epoch 104/160\n",
            "118/118 [==============================] - 1s 6ms/step - loss: 0.9571 - accuracy: 0.7734\n",
            "Epoch 105/160\n",
            "118/118 [==============================] - 1s 7ms/step - loss: 0.9488 - accuracy: 0.7750\n",
            "Epoch 106/160\n",
            "118/118 [==============================] - 1s 5ms/step - loss: 0.9405 - accuracy: 0.7768\n",
            "Epoch 107/160\n",
            "118/118 [==============================] - 1s 5ms/step - loss: 0.9324 - accuracy: 0.7790\n",
            "Epoch 108/160\n",
            "118/118 [==============================] - 1s 5ms/step - loss: 0.9245 - accuracy: 0.7805\n",
            "Epoch 109/160\n",
            "118/118 [==============================] - 1s 7ms/step - loss: 0.9167 - accuracy: 0.7821\n",
            "Epoch 110/160\n",
            "118/118 [==============================] - 1s 8ms/step - loss: 0.9090 - accuracy: 0.7835\n",
            "Epoch 111/160\n",
            "118/118 [==============================] - 1s 6ms/step - loss: 0.9015 - accuracy: 0.7850\n",
            "Epoch 112/160\n",
            "118/118 [==============================] - 1s 8ms/step - loss: 0.8941 - accuracy: 0.7873\n",
            "Epoch 113/160\n",
            "118/118 [==============================] - 1s 9ms/step - loss: 0.8868 - accuracy: 0.7887\n",
            "Epoch 114/160\n",
            "118/118 [==============================] - 1s 8ms/step - loss: 0.8797 - accuracy: 0.7897\n",
            "Epoch 115/160\n",
            "118/118 [==============================] - 1s 6ms/step - loss: 0.8727 - accuracy: 0.7911\n",
            "Epoch 116/160\n",
            "118/118 [==============================] - 0s 4ms/step - loss: 0.8658 - accuracy: 0.7920\n",
            "Epoch 117/160\n",
            "118/118 [==============================] - 0s 4ms/step - loss: 0.8590 - accuracy: 0.7942\n",
            "Epoch 118/160\n",
            "118/118 [==============================] - 0s 4ms/step - loss: 0.8524 - accuracy: 0.7943\n",
            "Epoch 119/160\n",
            "118/118 [==============================] - 1s 4ms/step - loss: 0.8459 - accuracy: 0.7951\n",
            "Epoch 120/160\n",
            "118/118 [==============================] - 0s 4ms/step - loss: 0.8395 - accuracy: 0.7962\n",
            "Epoch 121/160\n",
            "118/118 [==============================] - 0s 4ms/step - loss: 0.8332 - accuracy: 0.7972\n",
            "Epoch 122/160\n",
            "118/118 [==============================] - 0s 4ms/step - loss: 0.8271 - accuracy: 0.7991\n",
            "Epoch 123/160\n",
            "118/118 [==============================] - 0s 4ms/step - loss: 0.8210 - accuracy: 0.7998\n",
            "Epoch 124/160\n",
            "118/118 [==============================] - 0s 4ms/step - loss: 0.8150 - accuracy: 0.8003\n",
            "Epoch 125/160\n",
            "118/118 [==============================] - 0s 4ms/step - loss: 0.8092 - accuracy: 0.8014\n",
            "Epoch 126/160\n",
            "118/118 [==============================] - 0s 4ms/step - loss: 0.8034 - accuracy: 0.8031\n",
            "Epoch 127/160\n",
            "118/118 [==============================] - 0s 4ms/step - loss: 0.7978 - accuracy: 0.8044\n",
            "Epoch 128/160\n",
            "118/118 [==============================] - 1s 4ms/step - loss: 0.7922 - accuracy: 0.8053\n",
            "Epoch 129/160\n",
            "118/118 [==============================] - 0s 4ms/step - loss: 0.7867 - accuracy: 0.8068\n",
            "Epoch 130/160\n",
            "118/118 [==============================] - 1s 4ms/step - loss: 0.7813 - accuracy: 0.8075\n",
            "Epoch 131/160\n",
            "118/118 [==============================] - 1s 5ms/step - loss: 0.7760 - accuracy: 0.8090\n",
            "Epoch 132/160\n",
            "118/118 [==============================] - 1s 6ms/step - loss: 0.7708 - accuracy: 0.8103\n",
            "Epoch 133/160\n",
            "118/118 [==============================] - 1s 7ms/step - loss: 0.7657 - accuracy: 0.8113\n",
            "Epoch 134/160\n",
            "118/118 [==============================] - 1s 8ms/step - loss: 0.7606 - accuracy: 0.8127\n",
            "Epoch 135/160\n",
            "118/118 [==============================] - 1s 12ms/step - loss: 0.7556 - accuracy: 0.8142\n",
            "Epoch 136/160\n",
            "118/118 [==============================] - 1s 11ms/step - loss: 0.7507 - accuracy: 0.8151\n",
            "Epoch 137/160\n",
            "118/118 [==============================] - 1s 11ms/step - loss: 0.7459 - accuracy: 0.8163\n",
            "Epoch 138/160\n",
            "118/118 [==============================] - 1s 9ms/step - loss: 0.7411 - accuracy: 0.8169\n",
            "Epoch 139/160\n",
            "118/118 [==============================] - 1s 7ms/step - loss: 0.7364 - accuracy: 0.8186\n",
            "Epoch 140/160\n",
            "118/118 [==============================] - 1s 6ms/step - loss: 0.7318 - accuracy: 0.8195\n",
            "Epoch 141/160\n",
            "118/118 [==============================] - 1s 7ms/step - loss: 0.7272 - accuracy: 0.8206\n",
            "Epoch 142/160\n",
            "118/118 [==============================] - 1s 7ms/step - loss: 0.7227 - accuracy: 0.8218\n",
            "Epoch 143/160\n",
            "118/118 [==============================] - 1s 7ms/step - loss: 0.7183 - accuracy: 0.8230\n",
            "Epoch 144/160\n",
            "118/118 [==============================] - 1s 6ms/step - loss: 0.7139 - accuracy: 0.8237\n",
            "Epoch 145/160\n",
            "118/118 [==============================] - 1s 6ms/step - loss: 0.7095 - accuracy: 0.8253\n",
            "Epoch 146/160\n",
            "118/118 [==============================] - 1s 6ms/step - loss: 0.7053 - accuracy: 0.8260\n",
            "Epoch 147/160\n",
            "118/118 [==============================] - 1s 6ms/step - loss: 0.7011 - accuracy: 0.8261\n",
            "Epoch 148/160\n",
            "118/118 [==============================] - 1s 7ms/step - loss: 0.6969 - accuracy: 0.8277\n",
            "Epoch 149/160\n",
            "118/118 [==============================] - 1s 6ms/step - loss: 0.6928 - accuracy: 0.8284\n",
            "Epoch 150/160\n",
            "118/118 [==============================] - 1s 6ms/step - loss: 0.6888 - accuracy: 0.8295\n",
            "Epoch 151/160\n",
            "118/118 [==============================] - 1s 7ms/step - loss: 0.6847 - accuracy: 0.8304\n",
            "Epoch 152/160\n",
            "118/118 [==============================] - 1s 12ms/step - loss: 0.6808 - accuracy: 0.8319\n",
            "Epoch 153/160\n",
            "118/118 [==============================] - 1s 11ms/step - loss: 0.6769 - accuracy: 0.8332\n",
            "Epoch 154/160\n",
            "118/118 [==============================] - 1s 11ms/step - loss: 0.6730 - accuracy: 0.8336\n",
            "Epoch 155/160\n",
            "118/118 [==============================] - 2s 13ms/step - loss: 0.6692 - accuracy: 0.8344\n",
            "Epoch 156/160\n",
            "118/118 [==============================] - 1s 7ms/step - loss: 0.6654 - accuracy: 0.8357\n",
            "Epoch 157/160\n",
            "118/118 [==============================] - 0s 4ms/step - loss: 0.6617 - accuracy: 0.8366\n",
            "Epoch 158/160\n",
            "118/118 [==============================] - 0s 4ms/step - loss: 0.6580 - accuracy: 0.8378\n",
            "Epoch 159/160\n",
            "118/118 [==============================] - 1s 4ms/step - loss: 0.6544 - accuracy: 0.8386\n",
            "Epoch 160/160\n",
            "118/118 [==============================] - 0s 4ms/step - loss: 0.6508 - accuracy: 0.8396\n"
          ]
        },
        {
          "output_type": "execute_result",
          "data": {
            "text/plain": [
              "<keras.callbacks.History at 0x7fbc26c12820>"
            ]
          },
          "metadata": {},
          "execution_count": 16
        }
      ]
    },
    {
      "cell_type": "code",
      "source": [
        "test_loss, test_acc = network.evaluate(test_images, test_labels)\n",
        "print('Test Accuracy: {:.5f} '.format(test_acc))\n",
        "test_acc\n"
      ],
      "metadata": {
        "colab": {
          "base_uri": "https://localhost:8080/"
        },
        "id": "NvJ0TLSZk9xc",
        "outputId": "77499dcb-0661-4ca0-a95d-8b93521b49a5"
      },
      "execution_count": null,
      "outputs": [
        {
          "output_type": "stream",
          "name": "stdout",
          "text": [
            "313/313 [==============================] - 1s 3ms/step - loss: 0.6393 - accuracy: 0.8462\n",
            "Test Accuracy: 0.84620 \n"
          ]
        },
        {
          "output_type": "execute_result",
          "data": {
            "text/plain": [
              "0.8461999893188477"
            ]
          },
          "metadata": {},
          "execution_count": 17
        }
      ]
    },
    {
      "cell_type": "code",
      "source": [
        "from keras.utils import plot_model\n",
        "plot_model(network, to_file='model.png')\n",
        "import matplotlib.pyplot as plt\n",
        "history =network.fit(train_images, train_labels, validation_split=0.33,epochs=5, batch_size=512)\n",
        "history_dict = history.history\n",
        "print(history_dict.keys())\n",
        "plt.plot(history.history['accuracy'])\n",
        "plt.plot(history.history['val_accuracy'])\n",
        "plt.title('Model accuracy')\n",
        "plt.ylabel('Accuracy')\n",
        "plt.xlabel('Epoch')\n",
        "plt.legend(['Train', 'Test'], loc='upper left')\n",
        "plt.show()\n",
        "\n",
        "\n",
        "# Plot training & validation loss values\n",
        "plt.plot(history.history['loss'])\n",
        "plt.plot(history.history['val_loss'])\n",
        "plt.title('Model loss')\n",
        "plt.ylabel('Loss')\n",
        "plt.xlabel('Epoch')\n",
        "plt.legend(['Train', 'Test'], loc='upper left')\n",
        "plt.show()\n"
      ],
      "metadata": {
        "colab": {
          "base_uri": "https://localhost:8080/",
          "height": 1000
        },
        "id": "181F8JkKlA0L",
        "outputId": "1689d23c-914f-47f9-a84d-717b7edcd708"
      },
      "execution_count": null,
      "outputs": [
        {
          "output_type": "stream",
          "name": "stdout",
          "text": [
            "Epoch 1/5\n",
            "79/79 [==============================] - 1s 8ms/step - loss: 0.6531 - accuracy: 0.8376 - val_loss: 0.6359 - val_accuracy: 0.8464\n",
            "Epoch 2/5\n",
            "79/79 [==============================] - 0s 6ms/step - loss: 0.6507 - accuracy: 0.8383 - val_loss: 0.6337 - val_accuracy: 0.8471\n",
            "Epoch 3/5\n",
            "79/79 [==============================] - 0s 6ms/step - loss: 0.6483 - accuracy: 0.8388 - val_loss: 0.6315 - val_accuracy: 0.8476\n",
            "Epoch 4/5\n",
            "79/79 [==============================] - 0s 6ms/step - loss: 0.6459 - accuracy: 0.8393 - val_loss: 0.6292 - val_accuracy: 0.8484\n",
            "Epoch 5/5\n",
            "79/79 [==============================] - 0s 5ms/step - loss: 0.6436 - accuracy: 0.8399 - val_loss: 0.6270 - val_accuracy: 0.8489\n",
            "dict_keys(['loss', 'accuracy', 'val_loss', 'val_accuracy'])\n"
          ]
        },
        {
          "output_type": "display_data",
          "data": {
            "text/plain": [
              "<Figure size 640x480 with 1 Axes>"
            ],
            "image/png": "[encoded data removed]"
          },
          "metadata": {}
        },
        {
          "output_type": "display_data",
          "data": {
            "text/plain": [
              "<Figure size 640x480 with 1 Axes>"
            ],
            "image/png": "[encoded data removed]"
          },
          "metadata": {}
        }
      ]
    }
  ]
}