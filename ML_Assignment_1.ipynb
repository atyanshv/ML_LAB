{
  "nbformat": 4,
  "nbformat_minor": 0,
  "metadata": {
    "colab": {
      "provenance": [],
      "include_colab_link": true
    },
    "kernelspec": {
      "name": "python3",
      "display_name": "Python 3"
    },
    "language_info": {
      "name": "python"
    }
  },
  "cells": [
    {
      "cell_type": "markdown",
      "metadata": {
        "id": "view-in-github",
        "colab_type": "text"
      },
      "source": [
        "<a href=\"https://colab.research.google.com/github/atyanshv/ML_LAB/blob/main/ML_Assignment_1.ipynb\" target=\"_parent\"><img src=\"https://colab.research.google.com/assets/colab-badge.svg\" alt=\"Open In Colab\"/></a>"
      ]
    },
    {
      "cell_type": "code",
      "source": [
        "# Linear Regression Assignment\n",
        "\n",
        "import numpy as np\n",
        "from sklearn import dataset\n",
        "boston = datasets.load_boston()\n",
        "\n",
        "X= boston.data\n",
        "y= boston.target\n",
        "x.shape\n",
        "\n",
        "from sklearn import model_selection\n",
        "\n",
        "x_train,x_test,y_train,y_test=model_selection.train_test_split(X,y,test_size=0.3)\n",
        "x_train.shape\n",
        "\n",
        "algl = Linear_Regression()\n",
        "algl.fit(x_train,y_train)\n",
        "\n",
        "import matplotlib.pyplot as plt\n",
        "m = algl.coef_[0]\n",
        "c = algl.intercept_\n",
        "\n",
        "x_line=np.arange(0,10,0.1)\n",
        "y_line = m * x_line + c \n",
        "\n",
        "plt.plot(x_line,y_line,\"r\")\n",
        "train_ID = x_train.reshape(75)\n",
        "plt.scatter(x_train,y_train)\n",
        "plt.show()\n",
        "\n",
        "import matplotlib.pyplot as plt\n",
        "m = algl.coef_[0]\n",
        "c = algl.intersept_\n",
        "\n",
        "x_line = np.arange(30,70,0.1)\n",
        "y_line = m * x_line + c\n",
        "plt.plot(x_line,y_line,\"r\")\n",
        "train_ID = x_test.reshape(25)\n",
        "plt.scayyer(x_test,y_test)\n",
        "plt.show()"
      ],
      "metadata": {
        "id": "ErXSijo4dEQ9",
        "colab": {
          "base_uri": "https://localhost:8080/",
          "height": 390
        },
        "outputId": "23faddd5-dcac-413d-a462-e1c675a01ef6"
      },
      "execution_count": 2,
      "outputs": [
        {
          "output_type": "error",
          "ename": "ImportError",
          "evalue": "ignored",
          "traceback": [
            "\u001b[0;31m---------------------------------------------------------------------------\u001b[0m",
            "\u001b[0;31mImportError\u001b[0m                               Traceback (most recent call last)",
            "\u001b[0;32m<ipython-input-2-691c51ce81d1>\u001b[0m in \u001b[0;36m<cell line: 4>\u001b[0;34m()\u001b[0m\n\u001b[1;32m      2\u001b[0m \u001b[0;34m\u001b[0m\u001b[0m\n\u001b[1;32m      3\u001b[0m \u001b[0;32mimport\u001b[0m \u001b[0mnumpy\u001b[0m \u001b[0;32mas\u001b[0m \u001b[0mnp\u001b[0m\u001b[0;34m\u001b[0m\u001b[0;34m\u001b[0m\u001b[0m\n\u001b[0;32m----> 4\u001b[0;31m \u001b[0;32mfrom\u001b[0m \u001b[0msklearn\u001b[0m \u001b[0;32mimport\u001b[0m \u001b[0mdataset\u001b[0m\u001b[0;34m\u001b[0m\u001b[0;34m\u001b[0m\u001b[0m\n\u001b[0m\u001b[1;32m      5\u001b[0m \u001b[0mboston\u001b[0m \u001b[0;34m=\u001b[0m \u001b[0mdatasets\u001b[0m\u001b[0;34m.\u001b[0m\u001b[0mload_boston\u001b[0m\u001b[0;34m(\u001b[0m\u001b[0;34m)\u001b[0m\u001b[0;34m\u001b[0m\u001b[0;34m\u001b[0m\u001b[0m\n\u001b[1;32m      6\u001b[0m \u001b[0;34m\u001b[0m\u001b[0m\n",
            "\u001b[0;31mImportError\u001b[0m: cannot import name 'dataset' from 'sklearn' (/usr/local/lib/python3.9/dist-packages/sklearn/__init__.py)",
            "",
            "\u001b[0;31m---------------------------------------------------------------------------\u001b[0;32m\nNOTE: If your import is failing due to a missing package, you can\nmanually install dependencies using either !pip or !apt.\n\nTo view examples of installing some common dependencies, click the\n\"Open Examples\" button below.\n\u001b[0;31m---------------------------------------------------------------------------\u001b[0m\n"
          ],
          "errorDetails": {
            "actions": [
              {
                "action": "open_url",
                "actionText": "Open Examples",
                "url": "/notebooks/snippets/importing_libraries.ipynb"
              }
            ]
          }
        }
      ]
    }
  ]
}