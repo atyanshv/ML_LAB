{
  "nbformat": 4,
  "nbformat_minor": 0,
  "metadata": {
    "colab": {
      "provenance": [],
      "include_colab_link": true
    },
    "kernelspec": {
      "name": "python3",
      "display_name": "Python 3"
    },
    "language_info": {
      "name": "python"
    }
  },
  "cells": [
    {
      "cell_type": "markdown",
      "metadata": {
        "id": "view-in-github",
        "colab_type": "text"
      },
      "source": [
        "<a href=\"https://colab.research.google.com/github/atyanshv/ML_LAB/blob/main/ML_Assignment_1.ipynb\" target=\"_parent\"><img src=\"https://colab.research.google.com/assets/colab-badge.svg\" alt=\"Open In Colab\"/></a>"
      ]
    },
    {
      "cell_type": "code",
      "source": [
        "# Linear Regression Assignment\n",
        "\n",
        "import numpy as np\n",
        "from sklearn import dataset\n",
        "boston = datasets.load_boston()\n",
        "\n",
        "X= boston.data\n",
        "y= boston.target\n",
        "x.shape\n",
        "\n",
        "from sklearn import model_selection\n",
        "\n",
        "x_train,x_test,y_train,y_test=model_selection.train_test_split(X,y,test_size=0.3)\n",
        "x_train.shape\n",
        "\n",
        "algl = Linear_Regression()\n",
        "algl.fit(x_train,y_train)\n",
        "\n",
        "import matplotlib.pyplot as plt\n",
        "m = algl.coef_[0]\n",
        "c = algl.intercept_\n",
        "\n",
        "x_line=np.arange(0,10,0.1)\n",
        "y_line = m * x_line + c \n",
        "\n",
        "plt.plot(x_line,y_line,\"r\")\n",
        "train_ID = x_train.reshape(75)\n",
        "plt.scatter(x_train,y_train)\n",
        "plt.show()\n",
        "\n",
        "import matplotlib.pyplot as plt\n",
        "m = algl.coef_[0]\n",
        "c = algl.intersept_\n",
        "\n",
        "x_line = np.arange(30,70,0.1)\n",
        "y_line = m * x_line + c\n",
        "plt.plot(x_line,y_line,\"r\")\n",
        "train_ID = x_test.reshape(25)\n",
        "plt.scayyer(x_test,y_test)\n",
        "plt.show()"
      ],
      "metadata": {
        "id": "ErXSijo4dEQ9"
      },
      "execution_count": null,
      "outputs": []
    }
  ]
}